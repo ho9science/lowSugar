{
 "cells": [
  {
   "cell_type": "code",
   "execution_count": 1,
   "metadata": {},
   "outputs": [
    {
     "data": {
      "text/plain": [
       "[{'thstrm_dt': '2020.12.31',\n",
       "  '이익잉여금': '271068211000000',\n",
       "  '유동자산': '198215579000000',\n",
       "  '영업이익': '35993876000000',\n",
       "  '자본총계': '275948016000000',\n",
       "  'stock_code': '005930',\n",
       "  '자본금': '897514000000',\n",
       "  '매출액': '236806988000000',\n",
       "  '유동부채': '75604351000000',\n",
       "  '비유동자산': '180020139000000',\n",
       "  '법인세차감전 순이익': '36345117000000',\n",
       "  '자산총계': '378235718000000',\n",
       "  '비유동부채': '26683351000000',\n",
       "  '부채총계': '102287702000000',\n",
       "  '당기순이익': '26407832000000'}]"
      ]
     },
     "execution_count": 1,
     "metadata": {},
     "output_type": "execute_result"
    }
   ],
   "source": [
    "from boto3.dynamodb.conditions import Key\n",
    "import json\n",
    "import boto3\n",
    "\n",
    "    \n",
    "dynamodb = boto3.resource('dynamodb')\n",
    "\n",
    "table = dynamodb.Table('financial_data')\n",
    "\n",
    "response = table.query(\n",
    "    KeyConditionExpression=Key('stock_code').eq(\"005930\") & Key('thstrm_dt').eq(\"2020.12.31\")\n",
    ")\n",
    "data = response['Items']\n",
    "\n",
    "data"
   ]
  },
  {
   "cell_type": "code",
   "execution_count": 50,
   "metadata": {},
   "outputs": [
    {
     "data": {
      "text/plain": [
       "[{'low': Decimal('81500'),\n",
       "  'date': '2021-05-07',\n",
       "  'open': Decimal('81800'),\n",
       "  'volume': Decimal('14154882'),\n",
       "  'id': '005930',\n",
       "  'high': Decimal('82100'),\n",
       "  'name': '삼성전자',\n",
       "  'close': Decimal('81900'),\n",
       "  'shares': Decimal('5969782550')}]"
      ]
     },
     "execution_count": 50,
     "metadata": {},
     "output_type": "execute_result"
    }
   ],
   "source": [
    "from boto3.dynamodb.conditions import Key\n",
    "import boto3\n",
    "\n",
    "\n",
    "dynamodb = boto3.resource('dynamodb')\n",
    "\n",
    "table = dynamodb.Table('stock')\n",
    "\n",
    "response = table.query(\n",
    "    KeyConditionExpression=Key('id').eq(\"005930\") & Key('date').eq(\"2021-05-07\")\n",
    ")\n",
    "\n",
    "item = response['Items']\n",
    "item"
   ]
  },
  {
   "cell_type": "code",
   "execution_count": 16,
   "metadata": {},
   "outputs": [
    {
     "data": {
      "text/plain": [
       "decimal.Decimal"
      ]
     },
     "execution_count": 16,
     "metadata": {},
     "output_type": "execute_result"
    }
   ],
   "source": [
    "type(item[0].get('close'))"
   ]
  },
  {
   "cell_type": "code",
   "execution_count": 17,
   "metadata": {},
   "outputs": [
    {
     "data": {
      "text/plain": [
       "decimal.Decimal"
      ]
     },
     "execution_count": 17,
     "metadata": {},
     "output_type": "execute_result"
    }
   ],
   "source": [
    "type(item[0].get('shares'))"
   ]
  },
  {
   "cell_type": "markdown",
   "metadata": {},
   "source": [
    "## PER"
   ]
  },
  {
   "cell_type": "code",
   "execution_count": 48,
   "metadata": {},
   "outputs": [
    {
     "data": {
      "text/plain": [
       "Decimal('18.51440098698749673960361456')"
      ]
     },
     "execution_count": 48,
     "metadata": {},
     "output_type": "execute_result"
    }
   ],
   "source": [
    "price = item[0].get('close')\n",
    "shares = item[0].get('shares')\n",
    "market_capitalization = price * shares\n",
    "profit = data[0].get('당기순이익')\n",
    "\n",
    "per = market_capitalization/int(profit)\n",
    "per"
   ]
  },
  {
   "cell_type": "markdown",
   "metadata": {},
   "source": [
    "## PBR"
   ]
  },
  {
   "cell_type": "code",
   "execution_count": 45,
   "metadata": {},
   "outputs": [
    {
     "name": "stdout",
     "output_type": "stream",
     "text": [
      "현재주가/(자본금+이익잉여금): 1.797745619765137684169576883\n",
      "현재주가/BPS(자본총계/주식발행수) 1.771801797788609576377602947\n"
     ]
    }
   ],
   "source": [
    "price = item[0].get('close')\n",
    "shares = item[0].get('shares')\n",
    "market_capitalization = price * shares\n",
    "capital = int(data[0].get('자본금'))\n",
    "total_capital = int(data[0].get('자본총계'))\n",
    "earning_surplus = int(data[0].get('이익잉여금'))\n",
    "\n",
    "assets = capital+earning_surplus\n",
    "pbr = price/(assets/shares)\n",
    "bps = total_capital/shares\n",
    "pbr2 = price/bps\n",
    "print(\"현재주가/(자본금+이익잉여금):\", pbr)\n",
    "print(\"현재주가/BPS(자본총계/주식발행수)\", pbr2)\n"
   ]
  },
  {
   "cell_type": "markdown",
   "metadata": {},
   "source": [
    "## PSR"
   ]
  },
  {
   "cell_type": "code",
   "execution_count": 47,
   "metadata": {},
   "outputs": [
    {
     "data": {
      "text/plain": [
       "Decimal('2.064656938438826813674941045')"
      ]
     },
     "execution_count": 47,
     "metadata": {},
     "output_type": "execute_result"
    }
   ],
   "source": [
    "price = item[0].get('close')\n",
    "shares = item[0].get('shares')\n",
    "market_capitalization = price * shares\n",
    "sales = int(data[0].get('매출액'))\n",
    "\n",
    "price/(sales/shares)"
   ]
  },
  {
   "cell_type": "markdown",
   "metadata": {},
   "source": [
    "## 당기순이익"
   ]
  },
  {
   "cell_type": "code",
   "execution_count": 53,
   "metadata": {},
   "outputs": [
    {
     "name": "stdout",
     "output_type": "stream",
     "text": [
      "흑자\n"
     ]
    }
   ],
   "source": [
    "if int(data[0].get('당기순이익')) > 0 :\n",
    "    print(\"흑자\")"
   ]
  },
  {
   "cell_type": "code",
   "execution_count": null,
   "metadata": {},
   "outputs": [],
   "source": []
  }
 ],
 "metadata": {
  "kernelspec": {
   "display_name": "Python 3",
   "language": "python",
   "name": "python3"
  },
  "language_info": {
   "codemirror_mode": {
    "name": "ipython",
    "version": 3
   },
   "file_extension": ".py",
   "mimetype": "text/x-python",
   "name": "python",
   "nbconvert_exporter": "python",
   "pygments_lexer": "ipython3",
   "version": "3.8.5"
  }
 },
 "nbformat": 4,
 "nbformat_minor": 4
}
