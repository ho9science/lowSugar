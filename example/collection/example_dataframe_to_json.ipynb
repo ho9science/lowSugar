{
 "cells": [
  {
   "cell_type": "markdown",
   "metadata": {},
   "source": [
    "## example data"
   ]
  },
  {
   "cell_type": "code",
   "execution_count": 7,
   "metadata": {},
   "outputs": [
    {
     "name": "stdout",
     "output_type": "stream",
     "text": [
      "Pandas(Index=0, 종목코드='060310', 종목명='3S', 시장구분='KOSDAQ', 소속부='중견기업부', 종가=3005, 대비=115, 등락률=3.98, 시가=2900, 고가=3030, 저가=2870, 거래량=397053, 거래대금=1186537525, 시가총액=137258002700, 상장주식수=45676540)\n"
     ]
    }
   ],
   "source": [
    "import pandas as pd\n",
    "import glob\n",
    "import os\n",
    "\n",
    "list_of_files = glob.glob('/Users/henry/Downloads/*.csv')\n",
    "latest_file = max(list_of_files, key=os.path.getctime)\n",
    "df = pd.read_csv(latest_file, encoding=\"cp949\")\n",
    "\n",
    "for row in df.itertuples():\n",
    "    print(row)\n",
    "    break"
   ]
  },
  {
   "cell_type": "markdown",
   "metadata": {},
   "source": [
    "## csv to json"
   ]
  },
  {
   "cell_type": "code",
   "execution_count": null,
   "metadata": {},
   "outputs": [],
   "source": [
    "import pandas as pd\n",
    "import glob\n",
    "import os\n",
    "import json\n",
    "from datetime import datetime\n",
    "\n",
    "\n",
    "list_of_files = glob.glob('/Users/henry/Downloads/*.csv')\n",
    "latest_file = max(list_of_files, key=os.path.getctime)\n",
    "df = pd.read_csv(latest_file, encoding=\"cp949\")\n",
    "df.drop(df.columns[[2,3,5,6,11,12,13]], axis=1, inplace=True)\n",
    "df.columns = ['id', 'name', 'close', 'open', 'high', 'low', 'volume']\n",
    "df['date'] = datetime.today().strftime('%Y-%m-%d')\n",
    "\n",
    "result = df.to_json(orient=\"records\")\n",
    "data = json.loads(result)\n",
    "print(data)"
   ]
  },
  {
   "cell_type": "markdown",
   "metadata": {},
   "source": [
    "## xml to json"
   ]
  },
  {
   "cell_type": "code",
   "execution_count": 1,
   "metadata": {},
   "outputs": [],
   "source": [
    "import requests\n",
    "import json\n",
    "import xml.etree.ElementTree as ET\n",
    "import pandas as pd\n",
    "\n",
    "url = 'https://fchart.stock.naver.com/sise.nhn?timeframe=day&count=6000&requestType=0&symbol=005930'\n",
    "headers = {'User-Agent': 'Mozilla/5.0 (Macintosh; Intel Mac OS X 11_2_3) AppleWebKit/537.36 (KHTML, like Gecko) Chrome/89.0.4389.90 Safari/537.36'}\n",
    "\n",
    "r = requests.get(url, headers=headers)\n",
    "\n",
    "xmlp = ET.XMLParser(encoding=\"utf-8\")\n",
    "root = ET.fromstring(r.text, parser=xmlp)\n",
    "data = [item.attrib.get('data').split('|') for item in root[0]]\n",
    "index  = ['date', 'open', 'high', 'low', 'close', 'volume']\n",
    "df = pd.DataFrame(data, columns=index)\n",
    "df['date'] = pd.to_datetime(df['date'], format='%Y-%m-%d')\n",
    "df['date'] = df['date'].dt.strftime('%Y-%m-%d')\n",
    "result = df.to_json(orient=\"records\")\n",
    "data = json.loads(result)\n",
    "with open(\"example00593.json\", \"w\") as w:\n",
    "    json.dump(data, w, ensure_ascii=False)"
   ]
  },
  {
   "cell_type": "markdown",
   "metadata": {},
   "source": [
    "## xml to csv"
   ]
  },
  {
   "cell_type": "code",
   "execution_count": 5,
   "metadata": {},
   "outputs": [],
   "source": [
    "import requests\n",
    "import json\n",
    "import xml.etree.ElementTree as ET\n",
    "import pandas as pd\n",
    "\n",
    "url = 'https://fchart.stock.naver.com/sise.nhn?timeframe=day&count=6000&requestType=0&symbol=005930'\n",
    "headers = {'User-Agent': 'Mozilla/5.0 (Macintosh; Intel Mac OS X 11_2_3) AppleWebKit/537.36 (KHTML, like Gecko) Chrome/89.0.4389.90 Safari/537.36'}\n",
    "\n",
    "r = requests.get(url, headers=headers)\n",
    "\n",
    "xmlp = ET.XMLParser(encoding=\"utf-8\")\n",
    "root = ET.fromstring(r.text, parser=xmlp)\n",
    "data = [item.attrib.get('data').split('|') for item in root[0]]\n",
    "index  = ['date', 'open', 'high', 'low', 'close', 'volume']\n",
    "df = pd.DataFrame(data, columns=index)\n",
    "df['date'] = pd.to_datetime(df['date'], format='%Y-%m-%d')\n",
    "df['date'] = df['date'].dt.strftime('%Y-%m-%d')\n",
    "df.to_csv(\"example00593.csv\", index=False)\n"
   ]
  },
  {
   "cell_type": "markdown",
   "metadata": {},
   "source": [
    "## dataframe two columns to dict"
   ]
  },
  {
   "cell_type": "code",
   "execution_count": null,
   "metadata": {},
   "outputs": [],
   "source": [
    "import pandas as pd\n",
    "import glob\n",
    "import os\n",
    "\n",
    "list_of_files = glob.glob('/Users/henry/Downloads/*.csv')\n",
    "latest_file = max(list_of_files, key=os.path.getctime)\n",
    "df = pd.read_csv(latest_file, encoding=\"cp949\")\n",
    "\n",
    "df = df[['종목코드', '종목명']]\n",
    "code_dict = dict(zip(df['종목코드'], df['종목명']))\n",
    "\n",
    "with open(\"example_code.json\", \"w\") as w:\n",
    "    json.dump(code_dict, w, ensure_ascii=False)"
   ]
  }
 ],
 "metadata": {
  "kernelspec": {
   "display_name": "Python 3 (ipykernel)",
   "language": "python",
   "name": "python3"
  },
  "language_info": {
   "codemirror_mode": {
    "name": "ipython",
    "version": 3
   },
   "file_extension": ".py",
   "mimetype": "text/x-python",
   "name": "python",
   "nbconvert_exporter": "python",
   "pygments_lexer": "ipython3",
   "version": "3.9.13"
  }
 },
 "nbformat": 4,
 "nbformat_minor": 4
}
