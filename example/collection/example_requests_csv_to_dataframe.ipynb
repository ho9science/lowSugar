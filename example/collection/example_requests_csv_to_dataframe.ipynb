{
 "cells": [
  {
   "cell_type": "markdown",
   "metadata": {},
   "source": [
    "# requests csv to dataframe"
   ]
  },
  {
   "cell_type": "code",
   "execution_count": 17,
   "metadata": {},
   "outputs": [
    {
     "name": "stdout",
     "output_type": "stream",
     "text": [
      "False\n",
      "        종목코드      종목명    시장구분    소속부     종가   대비    등락률     시가     고가     저가  \\\n",
      "0     060310       3S  KOSDAQ  중견기업부   2660   15   0.57   2645   2695   2600   \n",
      "1     095570   AJ네트웍스   KOSPI    NaN   4995  125   2.57   4960   5030   4870   \n",
      "2     006840    AK홀딩스   KOSPI    NaN  29050  250   0.87  28800  29300  28400   \n",
      "3     054620   APS홀딩스  KOSDAQ  중견기업부   9980  -70  -0.70  10000  10050   9720   \n",
      "4     265520    AP시스템  KOSDAQ  우량기업부  29750 -400  -1.33  30300  30350  29750   \n",
      "...      ...      ...     ...    ...    ...  ...    ...    ...    ...    ...   \n",
      "2556  000547  흥국화재2우B   KOSPI    NaN  21200    0   0.00  21500  21500  21200   \n",
      "2557  000545    흥국화재우   KOSPI    NaN   8900 -340  -3.68   9300   9300   8770   \n",
      "2558  003280     흥아해운   KOSPI    NaN    258    0   0.00      0      0      0   \n",
      "2559  037440       희림  KOSDAQ  중견기업부   5640  690  13.94   4970   6350   4970   \n",
      "2560  238490       힘스  KOSDAQ  우량기업부  13800   50   0.36  13900  13900  13700   \n",
      "\n",
      "          거래량         거래대금          시가총액      상장주식수  \n",
      "0      396119   1052137145  121499596400   45676540  \n",
      "1      140349    698018485  233877363525   46822295  \n",
      "2       60940   1766246950  384841647050   13247561  \n",
      "3      177432   1752717150  203534325580   20394221  \n",
      "4      199864   5975193750  430786753250   14480227  \n",
      "...       ...          ...           ...        ...  \n",
      "2556      376      7999000    3256320000     153600  \n",
      "2557    33495    298059760    6835200000     768000  \n",
      "2558        0            0   30117000222  116732559  \n",
      "2559  5979523  34713922565   78522759000   13922475  \n",
      "2560   108181   1490358250  156108856800   11312236  \n",
      "\n",
      "[2561 rows x 14 columns]\n"
     ]
    }
   ],
   "source": [
    "import pandas as pd\n",
    "import io\n",
    "import requests as r\n",
    "from datetime import datetime\n",
    "\n",
    "\n",
    "generate_otp_url = 'http://data.krx.co.kr/comm/fileDn/GenerateOTP/generate.cmd'\n",
    "today = datetime.today().strftime('%Y%m%d')\n",
    "otp_data = {\n",
    "    'mktId': 'ALL',\n",
    "    'trdDd': today,\n",
    "    'share': 1,\n",
    "    'money': 1,\n",
    "    'csvxls_isNo' : False,\n",
    "    'name': 'fileDown',\n",
    "    'url' : 'dbms/MDC/STAT/standard/MDCSTAT01501'\n",
    "}\n",
    "\n",
    "otp = r.post(generate_otp_url, data = otp_data)\n",
    "code = otp.content\n",
    "\n",
    "down_url = 'http://data.krx.co.kr/comm/fileDn/download_csv/download.cmd'\n",
    "referer = {'referer': generate_otp_url,\n",
    "          'user-agent': 'User-Agent: Mozilla/5.0 (Macintosh; Intel Mac OS X 10_15_7) AppleWebKit/537.36 (KHTML, like Gecko) Chrome/89.0.4389.114 Safari/537.36'}\n",
    "data = {'code': code}\n",
    "down_sector_ks = r.post(down_url, data=data, headers = referer)\n",
    "decoded_content = down_sector_ks.content.decode('cp949')\n",
    "df = pd.read_csv(io.StringIO(decoded_content))\n",
    "print(df)"
   ]
  },
  {
   "cell_type": "markdown",
   "metadata": {},
   "source": [
    "# requests csv to dataframe to json"
   ]
  },
  {
   "cell_type": "code",
   "execution_count": null,
   "metadata": {},
   "outputs": [],
   "source": [
    "import pandas as pd\n",
    "import io\n",
    "import requests as r\n",
    "from datetime import datetime\n",
    "import json\n",
    "\n",
    "generate_otp_url = 'http://data.krx.co.kr/comm/fileDn/GenerateOTP/generate.cmd'\n",
    "today = datetime.today().strftime('%Y%m%d')\n",
    "otp_data = {\n",
    "    'mktId': 'ALL',\n",
    "    'trdDd': '20210423',\n",
    "    'share': 1,\n",
    "    'money': 1,\n",
    "    'csvxls_isNo' : False,\n",
    "    'name': 'fileDown',\n",
    "    'url' : 'dbms/MDC/STAT/standard/MDCSTAT01501'\n",
    "}\n",
    "\n",
    "otp = r.post(generate_otp_url, data = otp_data)\n",
    "code = otp.content\n",
    "\n",
    "down_url = 'http://data.krx.co.kr/comm/fileDn/download_csv/download.cmd'\n",
    "referer = {'referer': generate_otp_url,\n",
    "          'user-agent': 'User-Agent: Mozilla/5.0 (Macintosh; Intel Mac OS X 10_15_7) AppleWebKit/537.36 (KHTML, like Gecko) Chrome/89.0.4389.114 Safari/537.36'}\n",
    "data = {'code': code}\n",
    "down_sector_ks = r.post(down_url, data=data, headers = referer)\n",
    "decoded_content = down_sector_ks.content.decode('cp949')\n",
    "df = pd.read_csv(io.StringIO(decoded_content))\n",
    "\n",
    "df.drop(df.columns[[2,3,5,6,11,12]], axis=1, inplace=True)\n",
    "df.columns = ['id', 'name', 'close', 'open', 'high', 'low', 'volume', 'shares']\n",
    "df['date'] = datetime.today().strftime('%Y-%m-%d')\n",
    "    \n",
    "result = df.to_json(orient=\"records\")\n",
    "data = json.loads(result)\n",
    "print(data)"
   ]
  }
 ],
 "metadata": {
  "kernelspec": {
   "display_name": "Python 3",
   "language": "python",
   "name": "python3"
  },
  "language_info": {
   "codemirror_mode": {
    "name": "ipython",
    "version": 3
   },
   "file_extension": ".py",
   "mimetype": "text/x-python",
   "name": "python",
   "nbconvert_exporter": "python",
   "pygments_lexer": "ipython3",
   "version": "3.8.5"
  }
 },
 "nbformat": 4,
 "nbformat_minor": 4
}
