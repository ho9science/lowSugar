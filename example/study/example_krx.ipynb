{
 "cells": [
  {
   "cell_type": "markdown",
   "metadata": {},
   "source": [
    "# example krx\n",
    "\n",
    "정보데이터시스템 : http://data.krx.co.kr/contents/MDC/MAIN/main/index.cmd\n",
    "\n",
    "## json 생성\n",
    "```\n",
    "{\n",
    "    \"00593\":\"삼성전자\"\n",
    "}\n",
    "```"
   ]
  },
  {
   "cell_type": "code",
   "execution_count": 5,
   "metadata": {},
   "outputs": [],
   "source": [
    "import pandas as pd\n",
    "import io\n",
    "import requests as r\n",
    "from datetime import datetime\n",
    "import json\n",
    "\n",
    "generate_otp_url = 'http://data.krx.co.kr/comm/fileDn/GenerateOTP/generate.cmd'\n",
    "# today = datetime.today().strftime('%Y%m%d')\n",
    "otp_data = {\n",
    "    'mktId': 'ALL',\n",
    "    'trdDd': '20210507',\n",
    "    'share': 1,\n",
    "    'money': 1,\n",
    "    'csvxls_isNo' : False,\n",
    "    'name': 'fileDown',\n",
    "    'url' : 'dbms/MDC/STAT/standard/MDCSTAT01501'\n",
    "}\n",
    "\n",
    "otp = r.post(generate_otp_url, data = otp_data)\n",
    "code = otp.content\n",
    "\n",
    "down_url = 'http://data.krx.co.kr/comm/fileDn/download_csv/download.cmd'\n",
    "referer = {'referer': generate_otp_url,\n",
    "          'user-agent': 'User-Agent: Mozilla/5.0 (Macintosh; Intel Mac OS X 10_15_7) AppleWebKit/537.36 (KHTML, like Gecko) Chrome/89.0.4389.114 Safari/537.36'}\n",
    "data = {'code': code}\n",
    "down_sector_ks = r.post(down_url, data=data, headers = referer)\n",
    "decoded_content = down_sector_ks.content.decode('cp949')\n",
    "df = pd.read_csv(io.StringIO(decoded_content))\n",
    "df = df[['종목코드', '종목명']]\n",
    "code_dict = dict(zip(df['종목코드'], df['종목명']))\n",
    "\n",
    "with open(\"example_code.json\", \"w\") as w:\n",
    "    json.dump(code_dict, w, ensure_ascii=False)"
   ]
  },
  {
   "cell_type": "code",
   "execution_count": 7,
   "metadata": {},
   "outputs": [],
   "source": [
    "import pandas as pd\n",
    "import glob\n",
    "import os\n",
    "\n",
    "list_of_files = glob.glob('/Users/henry/Downloads/*.csv')\n",
    "latest_file = max(list_of_files, key=os.path.getctime)\n",
    "df = pd.read_csv(latest_file, encoding=\"cp949\")\n",
    "\n",
    "df = df[['종목코드', '종목명']]\n",
    "code_dict = dict(zip(df['종목코드'], df['종목명']))\n",
    "\n",
    "with open(\"example_code.json\", \"w\") as w:\n",
    "    json.dump(code_dict, w, ensure_ascii=False)"
   ]
  }
 ],
 "metadata": {
  "kernelspec": {
   "display_name": "Python 3",
   "language": "python",
   "name": "python3"
  },
  "language_info": {
   "codemirror_mode": {
    "name": "ipython",
    "version": 3
   },
   "file_extension": ".py",
   "mimetype": "text/x-python",
   "name": "python",
   "nbconvert_exporter": "python",
   "pygments_lexer": "ipython3",
   "version": "3.8.5"
  }
 },
 "nbformat": 4,
 "nbformat_minor": 4
}
