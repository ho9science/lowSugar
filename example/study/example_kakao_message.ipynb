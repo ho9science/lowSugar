{
 "cells": [
  {
   "cell_type": "code",
   "execution_count": 2,
   "metadata": {},
   "outputs": [
    {
     "name": "stdout",
     "output_type": "stream",
     "text": [
      "{'template_object': '{\"object_type\": \"text\", \"text\": \"(\\\\uc720\\\\uac00)\\\\ud2f0\\\\uc6e8\\\\uc774\\\\ud640\\\\ub529\\\\uc2a4 - \\\\uc720\\\\uc0c1\\\\uc99d\\\\uc790\\\\uacb0\\\\uc815(\\\\uc885\\\\uc18d\\\\ud68c\\\\uc0ac\\\\uc758\\\\uc8fc\\\\uc694\\\\uacbd\\\\uc601\\\\uc0ac\\\\ud56d)\", \"link\": {\"web_url\": \"http://dart.fss.or.kr/api/link.jsp?rcpNo=20210316802115\"}, \"button_title\": \"\\\\uacf5\\\\uc2dc \\\\ud655\\\\uc778\"}'}\n",
      "Success!\n"
     ]
    },
    {
     "data": {
      "text/plain": [
       "200"
      ]
     },
     "execution_count": 2,
     "metadata": {},
     "output_type": "execute_result"
    }
   ],
   "source": [
    "import os\n",
    "import json\n",
    "import requests\n",
    "\n",
    "def send_message(text, link):\n",
    "    header = {\"Authorization\": 'Bearer {token}', \"Content-Type\":\"application/x-www-form-urlencoded\"}\n",
    "\n",
    "    url = \"https://kapi.kakao.com/v2/api/talk/memo/default/send\" \n",
    "\n",
    "    post = {\n",
    "        \"object_type\": \"text\",\n",
    "        \"text\": text,\n",
    "        \"link\": {\n",
    "            \"web_url\": link,\n",
    "        },\n",
    "        \"button_title\": \"공시 확인\"\n",
    "    }\n",
    "    data = {\"template_object\": json.dumps(post)}\n",
    "    print(data)\n",
    "    response = requests.post(url, headers=header, data=data)\n",
    "    if response:\n",
    "        print('Success!')\n",
    "    else:\n",
    "        print('An error has occurred.')\n",
    "    return response.status_code\n",
    "\n",
    "message = \"(유가)티웨이홀딩스 - 유상증자결정(종속회사의주요경영사항)\"\n",
    "link = \"http://dart.fss.or.kr/api/link.jsp?rcpNo=20210316802115\"\n",
    "send_message(message, link)\n"
   ]
  },
  {
   "cell_type": "code",
   "execution_count": null,
   "metadata": {},
   "outputs": [],
   "source": []
  },
  {
   "cell_type": "code",
   "execution_count": null,
   "metadata": {},
   "outputs": [],
   "source": []
  }
 ],
 "metadata": {
  "kernelspec": {
   "display_name": "Python 3",
   "language": "python",
   "name": "python3"
  },
  "language_info": {
   "codemirror_mode": {
    "name": "ipython",
    "version": 3
   },
   "file_extension": ".py",
   "mimetype": "text/x-python",
   "name": "python",
   "nbconvert_exporter": "python",
   "pygments_lexer": "ipython3",
   "version": "3.8.5"
  }
 },
 "nbformat": 4,
 "nbformat_minor": 4
}
