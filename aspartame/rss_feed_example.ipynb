{
 "cells": [
  {
   "cell_type": "code",
   "execution_count": 4,
   "metadata": {},
   "outputs": [
    {
     "name": "stdout",
     "output_type": "stream",
     "text": [
      "Number of RSS posts : 0\n"
     ]
    }
   ],
   "source": [
    "import feedparser\n",
    "\n",
    "def get_feed():\n",
    "    NewsFeed = feedparser.parse(\"http://dart.fss.or.kr/api/todayRSS.xml\")\n",
    "\n",
    "    print ('Number of RSS posts :', len(NewsFeed.entries))\n",
    "\n",
    "    for entry in NewsFeed.entries:\n",
    "        print(entry.title)\n",
    "\n",
    "get_feed()"
   ]
  },
  {
   "cell_type": "code",
   "execution_count": null,
   "metadata": {},
   "outputs": [],
   "source": []
  }
 ],
 "metadata": {
  "kernelspec": {
   "display_name": "Python 3",
   "language": "python",
   "name": "python3"
  },
  "language_info": {
   "codemirror_mode": {
    "name": "ipython",
    "version": 3
   },
   "file_extension": ".py",
   "mimetype": "text/x-python",
   "name": "python",
   "nbconvert_exporter": "python",
   "pygments_lexer": "ipython3",
   "version": "3.8.5"
  }
 },
 "nbformat": 4,
 "nbformat_minor": 4
}
