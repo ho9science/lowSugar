{
 "cells": [
  {
   "cell_type": "code",
   "execution_count": null,
   "metadata": {},
   "outputs": [],
   "source": [
    "import selenium\n",
    "from selenium import webdriver\n",
    "import time\n",
    "\n",
    "import pandas as pd \n",
    "\n",
    "def getDailyData():\n",
    "    url = \"\"\n",
    "    driver = webdriver.Chrome('../driver/chromedriver')\n",
    "    candidate = []\n",
    "    driver.implicitly_wait(time_to_wait=5)\n",
    "\n",
    "    driver.get(url=url)\n",
    "    driver.find_element_by_link_text(\"주식\").click()\n",
    "    driver.find_element_by_link_text(\"종목시세\").click()\n",
    "    driver.find_element_by_link_text(\"전종목 시세\").click()\n",
    "    time.sleep(5)\n",
    "    driver.find_element_by_class_name('CI-MDI-UNIT-DOWNLOAD').click()\n",
    "    div = driver.find_element_by_xpath(\"//div[@data-type='csv']\")\n",
    "    div.find_element_by_tag_name('a').click()\n",
    "\n",
    "if __name__ == '__main__':\n",
    "     getDailyData()"
   ]
  },
  {
   "cell_type": "code",
   "execution_count": null,
   "metadata": {},
   "outputs": [],
   "source": []
  }
 ],
 "metadata": {
  "kernelspec": {
   "display_name": "Python 3",
   "language": "python",
   "name": "python3"
  },
  "language_info": {
   "codemirror_mode": {
    "name": "ipython",
    "version": 3
   },
   "file_extension": ".py",
   "mimetype": "text/x-python",
   "name": "python",
   "nbconvert_exporter": "python",
   "pygments_lexer": "ipython3",
   "version": "3.8.5"
  }
 },
 "nbformat": 4,
 "nbformat_minor": 4
}
