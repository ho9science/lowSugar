{
 "cells": [
  {
   "cell_type": "code",
   "execution_count": 43,
   "metadata": {},
   "outputs": [
    {
     "name": "stdout",
     "output_type": "stream",
     "text": [
      "             0      1       2      3       4      5      6     7         8\n",
      "62      S&T홀딩스  18050   75911   2943   14358   1271   7.87  0.31  0.204973\n",
      "64       메리츠화재  16600  805779  20024  101180   3528   4.87  0.68  0.197905\n",
      "87        현대상사  17800  244107   2355   42634    435   9.28  0.61  0.055238\n",
      "94       노루페인트   9430   82985   1886    6475    292  10.35  0.57  0.291274\n",
      "100       KTis   2660  194110    926    4510    138   9.20  0.51  0.205322\n",
      "..         ...    ...     ...    ...     ...    ...    ...   ...       ...\n",
      "469  HDC현대산업개발  26800  483931  17663   42165   5515   6.65  0.66  0.418902\n",
      "472       미창석유  72000   62297   1253    3237    175   6.47  0.41  0.387087\n",
      "481       대한제강  12900  423276   3179   10217    420   4.29  0.54  0.311148\n",
      "486         DL  82700  471114  12770   97001  11301   4.38  0.49  0.131648\n",
      "517         한라   4740  157946   1843   13049    677   3.11  0.70  0.141237\n",
      "\n",
      "[68 rows x 9 columns]\n"
     ]
    }
   ],
   "source": [
    "import selenium\n",
    "from selenium import webdriver\n",
    "from selenium.webdriver import ActionChains\n",
    "\n",
    "from selenium.webdriver.common.keys import Keys\n",
    "from selenium.webdriver.common.by import By\n",
    "\n",
    "from selenium.webdriver.support import expected_conditions as EC\n",
    "from selenium.webdriver.support.ui import Select\n",
    "from selenium.webdriver.support.ui import WebDriverWait\n",
    "\n",
    "import pandas as pd \n",
    "\n",
    "target_url = []\n",
    "\n",
    "driver = webdriver.Chrome('chromedriver')\n",
    "candidate = []\n",
    "driver.implicitly_wait(time_to_wait=5)\n",
    "\n",
    "for url in target_url:\n",
    "    driver.get(url=url)\n",
    "    option1 = driver.find_element_by_id(\"option1\")\n",
    "    option1 = driver.find_element_by_id(\"option2\").click()\n",
    "    option1 = driver.find_element_by_id(\"option8\").click()\n",
    "    option1 = driver.find_element_by_id(\"option14\").click()\n",
    "    option1 = driver.find_element_by_id(\"option20\").click()\n",
    "\n",
    "    option4 = driver.find_element_by_id(\"option4\").click()\n",
    "    option5 = driver.find_element_by_id(\"option5\").click()\n",
    "    option6 = driver.find_element_by_id(\"option6\")\n",
    "    option1 = driver.find_element_by_id(\"option12\").click()\n",
    "    option22 = driver.find_element_by_id(\"option22\").click()\n",
    "    option24 = driver.find_element_by_id(\"option24\").click()\n",
    "\n",
    "    driver.execute_script(\"fieldSubmit()\")\n",
    "\n",
    "    table_class = driver.find_element_by_class_name('type_2')\n",
    "    rows = table_class.find_elements_by_tag_name(\"tr\")\n",
    "    \n",
    "    for row in rows:\n",
    "        cols = row.find_elements_by_tag_name(\"td\")\n",
    "        a = []\n",
    "        if len(cols) < 2:\n",
    "            continue\n",
    "        else:\n",
    "            if cols[7].text==\"N/A\" or cols[8].text==\"N/A\" or cols[9].text==\"N/A\" or cols[10].text==\"N/A\": #no info\n",
    "                continue\n",
    "            a.append(cols[1].text) #name\n",
    "            a.append(cols[2].text.replace(\",\", \"\")) #price\n",
    "            a.append(int(cols[5].text.replace(\",\", \"\")))\n",
    "            a.append(int(cols[6].text.replace(\",\", \"\")))\n",
    "            a.append(int(cols[7].text.replace(\",\", \"\")))\n",
    "            a.append(int(cols[8].text.replace(\",\", \"\")))\n",
    "            a.append(float(cols[9].text.replace(\",\", \"\")))\n",
    "            a.append(float(cols[10].text.replace(\",\", \"\")))\n",
    "            a.append(int(cols[6].text.replace(\",\", \"\"))/int(cols[7].text.replace(\",\", \"\")))\n",
    "            candidate.append(a)\n",
    "driver.close()\n",
    "df = pd.DataFrame(candidate)\n",
    "df = df[df[5] > 0] # no negative value\n",
    "df = df[df[7].between(0, 0.7)]\n",
    "df = df[df[6].between(0, 11.5)]\n",
    "df = df[df[8] < 0.55]\n",
    "print(df)"
   ]
  },
  {
   "cell_type": "code",
   "execution_count": null,
   "metadata": {},
   "outputs": [],
   "source": []
  },
  {
   "cell_type": "code",
   "execution_count": null,
   "metadata": {},
   "outputs": [],
   "source": []
  },
  {
   "cell_type": "code",
   "execution_count": null,
   "metadata": {},
   "outputs": [],
   "source": []
  }
 ],
 "metadata": {
  "kernelspec": {
   "display_name": "Python 3",
   "language": "python",
   "name": "python3"
  },
  "language_info": {
   "codemirror_mode": {
    "name": "ipython",
    "version": 3
   },
   "file_extension": ".py",
   "mimetype": "text/x-python",
   "name": "python",
   "nbconvert_exporter": "python",
   "pygments_lexer": "ipython3",
   "version": "3.8.5"
  }
 },
 "nbformat": 4,
 "nbformat_minor": 4
}
