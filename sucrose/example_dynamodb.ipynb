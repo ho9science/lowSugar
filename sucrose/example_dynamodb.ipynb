{
 "cells": [
  {
   "cell_type": "markdown",
   "metadata": {},
   "source": [
    "# dynamoDB batch write"
   ]
  },
  {
   "cell_type": "code",
   "execution_count": null,
   "metadata": {},
   "outputs": [],
   "source": [
    "import boto3\n",
    "\n",
    "\n",
    "dynamodb = boto3.resource('dynamodb')\n",
    "\n",
    "table = dynamodb.Table('stock')\n",
    "\n",
    "print(table.creation_date_time)\n",
    "\n",
    "with table.batch_writer() as batch:\n",
    "    batch.put_item(\n",
    "        Item={\n",
    "            'account_type': 'standard_user',\n",
    "            'username': 'johndoe',\n",
    "            'first_name': 'John',\n",
    "            'last_name': 'Doe',\n",
    "            'age': 25,\n",
    "            'address': {\n",
    "                'road': '1 Jefferson Street',\n",
    "                'city': 'Los Angeles',\n",
    "                'state': 'CA',\n",
    "                'zipcode': 90001\n",
    "            }\n",
    "        }\n",
    "    )"
   ]
  },
  {
   "cell_type": "markdown",
   "metadata": {},
   "source": [
    "# dynamoDB query condition"
   ]
  },
  {
   "cell_type": "code",
   "execution_count": null,
   "metadata": {},
   "outputs": [],
   "source": [
    "from boto3.dynamodb.conditions import Key\n",
    "import boto3\n",
    "\n",
    "\n",
    "dynamodb = boto3.resource('dynamodb')\n",
    "\n",
    "table = dynamodb.Table('stock')\n",
    "\n",
    "response = table.query(\n",
    "    KeyConditionExpression=Key('id').eq(\"002210\")\n",
    ")\n",
    "\n",
    "item = response['Items']"
   ]
  },
  {
   "cell_type": "code",
   "execution_count": 7,
   "metadata": {},
   "outputs": [
    {
     "data": {
      "text/plain": [
       "[{'thstrm_dt': '2020.12.31',\n",
       "  '이익잉여금': '189764004494',\n",
       "  '유동자산': '201359631832',\n",
       "  '영업이익': '62718416760',\n",
       "  '자본총계': '258801395745',\n",
       "  'stock_code': '030190',\n",
       "  '자본금': '30357410000',\n",
       "  '매출액': '446005796022',\n",
       "  '유동부채': '95590904779',\n",
       "  '비유동자산': '167443999082',\n",
       "  '법인세차감전 순이익': '61171483398',\n",
       "  '자산총계': '368803630914',\n",
       "  '비유동부채': '14411330390',\n",
       "  '부채총계': '110002235169',\n",
       "  '당기순이익': '47176003670'}]"
      ]
     },
     "execution_count": 7,
     "metadata": {},
     "output_type": "execute_result"
    }
   ],
   "source": [
    "from boto3.dynamodb.conditions import Key\n",
    "import json\n",
    "import boto3\n",
    "\n",
    "    \n",
    "dynamodb = boto3.resource('dynamodb')\n",
    "\n",
    "table = dynamodb.Table('financial_data')\n",
    "\n",
    "response = table.query(\n",
    "    KeyConditionExpression=Key('stock_code').eq(\"030190\") & Key('thstrm_dt').eq(\"2020.12.31\")\n",
    ")\n",
    "data = response['Items']\n",
    "\n",
    "data"
   ]
  },
  {
   "cell_type": "code",
   "execution_count": 5,
   "metadata": {},
   "outputs": [
    {
     "data": {
      "text/plain": [
       "[{'low': '77300',\n",
       "  'date': '2020-12-30',\n",
       "  'open': '77400',\n",
       "  'volume': '29417421',\n",
       "  'id': '005930',\n",
       "  'high': '81300',\n",
       "  'close': '81000'}]"
      ]
     },
     "execution_count": 5,
     "metadata": {},
     "output_type": "execute_result"
    }
   ],
   "source": [
    "from boto3.dynamodb.conditions import Key\n",
    "import json\n",
    "import boto3\n",
    "\n",
    "    \n",
    "dynamodb = boto3.resource('dynamodb')\n",
    "\n",
    "table = dynamodb.Table('stock')\n",
    "\n",
    "response = table.query(\n",
    "    KeyConditionExpression=Key('id').eq(\"005930\") & Key('date').between(\"2020-12-30\", \"2020-12-31\")\n",
    ")\n",
    "data = response['Items']\n",
    "data"
   ]
  },
  {
   "cell_type": "code",
   "execution_count": null,
   "metadata": {},
   "outputs": [],
   "source": []
  }
 ],
 "metadata": {
  "kernelspec": {
   "display_name": "Python 3",
   "language": "python",
   "name": "python3"
  },
  "language_info": {
   "codemirror_mode": {
    "name": "ipython",
    "version": 3
   },
   "file_extension": ".py",
   "mimetype": "text/x-python",
   "name": "python",
   "nbconvert_exporter": "python",
   "pygments_lexer": "ipython3",
   "version": "3.8.5"
  }
 },
 "nbformat": 4,
 "nbformat_minor": 4
}
