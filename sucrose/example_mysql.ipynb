{
 "cells": [
  {
   "cell_type": "markdown",
   "metadata": {},
   "source": [
    "# mysql \n",
    "https://mysqlclient.readthedocs.io/user_guide.html"
   ]
  },
  {
   "cell_type": "markdown",
   "metadata": {},
   "source": [
    "## connect mysql"
   ]
  },
  {
   "cell_type": "code",
   "execution_count": 27,
   "metadata": {},
   "outputs": [
    {
     "data": {
      "text/plain": [
       "((1,\n",
       "  datetime.date(2006, 1, 17),\n",
       "  29500,\n",
       "  datetime.date(1983, 1, 1),\n",
       "  '세종대로23길',\n",
       "  '',\n",
       "  '00000',\n",
       "  '4100190',\n",
       "  ' 당주동',\n",
       "  '100',\n",
       "  '세종',\n",
       "  93.4,\n",
       "  '11110',\n",
       "  '서울특별시 종로구',\n",
       "  '6'),)"
      ]
     },
     "execution_count": 27,
     "metadata": {},
     "output_type": "execute_result"
    }
   ],
   "source": [
    "import MySQLdb \n",
    "\n",
    "\n",
    "db = MySQLdb.connect(\"host\", \"user\", \"passwd\", \"db\", use_unicode=True, charset=\"UTF8\")\n",
    "db.query(\"\"\"SELECT * FROM APT_REAL limit 1\"\"\")\n",
    "r = db.store_result()\n",
    "result = r.fetch_row()\n",
    "result"
   ]
  },
  {
   "cell_type": "markdown",
   "metadata": {},
   "source": [
    "## mysql fetch all to csv"
   ]
  },
  {
   "cell_type": "code",
   "execution_count": 54,
   "metadata": {},
   "outputs": [],
   "source": [
    "import MySQLdb \n",
    "import csv\n",
    "\n",
    "\n",
    "db = MySQLdb.connect(\"host\", \"user\", \"passwd\", \"db\", use_unicode=True, charset=\"UTF8\")\n",
    "db.query(\"\"\"SELECT * FROM APT_REAL WHERE DEALDATE >= '2019-01-01' AND DEALDATE <= '2019-12-31'\"\"\")\n",
    "r = db.store_result()\n",
    "data = r.fetch_row(maxrows=0)\n",
    "with open('apt_real/apt_real_2019.csv','w') as out:\n",
    "    csv_out=csv.writer(out)\n",
    "    csv_out.writerow(['deal_date', 'deal_amount', 'build_year', 'road_name', 'road_name_bunbun', 'road_name_bunbun', 'roadname_code', 'dong', 'jibun', 'name', 'area', 'region_code', 'district', 'floor'])\n",
    "    for row in data:\n",
    "        as_list = list(row)\n",
    "        as_list[3] = as_list[3].year\n",
    "        csv_out.writerow(as_list[1:])"
   ]
  }
 ],
 "metadata": {
  "kernelspec": {
   "display_name": "Python 3",
   "language": "python",
   "name": "python3"
  },
  "language_info": {
   "codemirror_mode": {
    "name": "ipython",
    "version": 3
   },
   "file_extension": ".py",
   "mimetype": "text/x-python",
   "name": "python",
   "nbconvert_exporter": "python",
   "pygments_lexer": "ipython3",
   "version": "3.8.5"
  }
 },
 "nbformat": 4,
 "nbformat_minor": 4
}
