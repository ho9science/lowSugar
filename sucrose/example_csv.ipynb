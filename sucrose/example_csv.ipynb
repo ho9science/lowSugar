{
 "cells": [
  {
   "cell_type": "markdown",
   "metadata": {},
   "source": [
    "# csv파일 읽고 쓰기"
   ]
  },
  {
   "cell_type": "markdown",
   "metadata": {},
   "source": [
    "## 동일 디렉토리의 csv파일 중 가장 최신 파일을 읽기"
   ]
  },
  {
   "cell_type": "code",
   "execution_count": null,
   "metadata": {},
   "outputs": [],
   "source": [
    "import csv\n",
    "import glob\n",
    "import os\n",
    "\n",
    "list_of_files = glob.glob('/Users/henry/Downloads/*.csv')\n",
    "latest_file = max(list_of_files, key=os.path.getctime)\n",
    "\n",
    "with open(latest_file, newline='', encoding='cp949') as csvfile:\n",
    "    spamreader = csv.reader(csvfile, delimiter=' ', quotechar='|')\n",
    "    for row in spamreader:\n",
    "        print(', '.join(row))"
   ]
  },
  {
   "cell_type": "markdown",
   "metadata": {},
   "source": [
    "## pandas로 csv파일 읽기"
   ]
  },
  {
   "cell_type": "code",
   "execution_count": null,
   "metadata": {},
   "outputs": [],
   "source": [
    "import pandas as pd\n",
    "import glob\n",
    "import os\n",
    "\n",
    "list_of_files = glob.glob('/Users/henry/Downloads/*.csv')\n",
    "latest_file = max(list_of_files, key=os.path.getctime)\n",
    "df = pd.read_csv(latest_file, encoding=\"cp949\")\n",
    "\n",
    "print(df)"
   ]
  },
  {
   "cell_type": "markdown",
   "metadata": {},
   "source": [
    "## pandas로 csv 파일 읽고 json으로 변환하기"
   ]
  },
  {
   "cell_type": "code",
   "execution_count": null,
   "metadata": {},
   "outputs": [],
   "source": [
    "import pandas as pd\n",
    "import glob\n",
    "import os\n",
    "import json\n",
    "\n",
    "list_of_files = glob.glob('/Users/henry/Downloads/*.csv')\n",
    "latest_file = max(list_of_files, key=os.path.getctime)\n",
    "df = pd.read_csv(latest_file, encoding=\"cp949\")\n",
    "df = df.loc[:,['종목코드','종목명']]\n",
    "df = df.set_index('종목코드')\n",
    "df.columns = ['name']\n",
    "print(df.shape[0])\n",
    "result = df.to_dict(\"index\")\n",
    "\n",
    "with open('stockcode.json', 'w') as outfile:\n",
    "    json.dump(result, outfile, ensure_ascii=False)"
   ]
  },
  {
   "cell_type": "code",
   "execution_count": 94,
   "metadata": {
    "scrolled": true
   },
   "outputs": [
    {
     "name": "stdout",
     "output_type": "stream",
     "text": [
      "--- 삭제 목록 ---\n",
      "\n",
      "--- 추가 목록 ---\n",
      "000021\n",
      "000023\n"
     ]
    }
   ],
   "source": [
    "try:\n",
    "    df2 = pd.read_json(\"stockcode.json\", orient='index')\n",
    "    deletedCode = df.index.difference(df2.index)\n",
    "    addedCode = df2.index.difference(df.index)\n",
    "\n",
    "    print('--- 삭제 목록 ---')\n",
    "    print('\\n'.join(map(str, deletedCode)))\n",
    "    print('--- 추가 목록 ---')\n",
    "    print('\\n'.join(map(str, addedCode)))\n",
    "\n",
    "except ValueError:\n",
    "    print(\"not find stockcode\")\n"
   ]
  },
  {
   "cell_type": "code",
   "execution_count": null,
   "metadata": {},
   "outputs": [],
   "source": [
    "import json\n",
    "import time\n",
    "\n",
    "with open(\"stockcode.json\") as code:\n",
    "    data = json.load(code)\n",
    "\n",
    "for code in data:\n",
    "    print(code)\n",
    "    time.sleep(3)"
   ]
  },
  {
   "cell_type": "markdown",
   "metadata": {},
   "source": [
    "## 서울특별시 부동산 실거래가 정보\n",
    "http://data.seoul.go.kr/dataList/OA-15548/S/1/datasetView.do;jsessionid=BECD8117AC7AAD4DFB8F7878AE400FA2.new_portal-svr-11"
   ]
  },
  {
   "cell_type": "code",
   "execution_count": 2,
   "metadata": {},
   "outputs": [
    {
     "name": "stderr",
     "output_type": "stream",
     "text": [
      "/Users/henry/opt/anaconda3/lib/python3.8/site-packages/IPython/core/interactiveshell.py:3146: DtypeWarning: Columns (1) have mixed types.Specify dtype option on import or set low_memory=False.\n",
      "  has_raised = await self.run_ast_nodes(code_ast.body, cell_name,\n"
     ]
    },
    {
     "data": {
      "text/html": [
       "<div>\n",
       "<style scoped>\n",
       "    .dataframe tbody tr th:only-of-type {\n",
       "        vertical-align: middle;\n",
       "    }\n",
       "\n",
       "    .dataframe tbody tr th {\n",
       "        vertical-align: top;\n",
       "    }\n",
       "\n",
       "    .dataframe thead th {\n",
       "        text-align: right;\n",
       "    }\n",
       "</style>\n",
       "<table border=\"1\" class=\"dataframe\">\n",
       "  <thead>\n",
       "    <tr style=\"text-align: right;\">\n",
       "      <th></th>\n",
       "      <th>실거래가아이디</th>\n",
       "      <th>지번코드</th>\n",
       "      <th>시군구코드</th>\n",
       "      <th>자치구명</th>\n",
       "      <th>법정동코드</th>\n",
       "      <th>법정동명</th>\n",
       "      <th>신고년도</th>\n",
       "      <th>업무구분코드</th>\n",
       "      <th>업무구분</th>\n",
       "      <th>물건번호</th>\n",
       "      <th>대지권면적</th>\n",
       "      <th>건물면적</th>\n",
       "      <th>관리구분코드</th>\n",
       "      <th>층정보</th>\n",
       "      <th>건물주용도코드</th>\n",
       "      <th>건물주용도</th>\n",
       "      <th>물건금액</th>\n",
       "      <th>건축년도</th>\n",
       "      <th>건물명</th>\n",
       "    </tr>\n",
       "  </thead>\n",
       "  <tbody>\n",
       "    <tr>\n",
       "      <th>0</th>\n",
       "      <td>11290-2020-4-0000066-1</td>\n",
       "      <td>1129013800101440024</td>\n",
       "      <td>11290</td>\n",
       "      <td>성북구</td>\n",
       "      <td>1129013800</td>\n",
       "      <td>장위동</td>\n",
       "      <td>2020</td>\n",
       "      <td>4</td>\n",
       "      <td>신고</td>\n",
       "      <td>1</td>\n",
       "      <td>0.0</td>\n",
       "      <td>59.92</td>\n",
       "      <td>2</td>\n",
       "      <td>5.0</td>\n",
       "      <td>2001</td>\n",
       "      <td>아파트</td>\n",
       "      <td>749000000</td>\n",
       "      <td>0.0</td>\n",
       "      <td>래미안 장위포레카운티</td>\n",
       "    </tr>\n",
       "    <tr>\n",
       "      <th>1</th>\n",
       "      <td>11290-2020-4-0000628-1</td>\n",
       "      <td>1129013400105080016</td>\n",
       "      <td>11290</td>\n",
       "      <td>성북구</td>\n",
       "      <td>1129013400</td>\n",
       "      <td>길음동</td>\n",
       "      <td>2020</td>\n",
       "      <td>4</td>\n",
       "      <td>신고</td>\n",
       "      <td>1</td>\n",
       "      <td>0.0</td>\n",
       "      <td>84.77</td>\n",
       "      <td>2</td>\n",
       "      <td>18.0</td>\n",
       "      <td>2001</td>\n",
       "      <td>아파트</td>\n",
       "      <td>1200000000</td>\n",
       "      <td>0.0</td>\n",
       "      <td>롯데캐슬 클라시아</td>\n",
       "    </tr>\n",
       "    <tr>\n",
       "      <th>2</th>\n",
       "      <td>11530-2020-4-0014284-1</td>\n",
       "      <td>1153010200107400029</td>\n",
       "      <td>11530</td>\n",
       "      <td>구로구</td>\n",
       "      <td>1153010200</td>\n",
       "      <td>구로동</td>\n",
       "      <td>2020</td>\n",
       "      <td>4</td>\n",
       "      <td>신고</td>\n",
       "      <td>1</td>\n",
       "      <td>NaN</td>\n",
       "      <td>36.90</td>\n",
       "      <td>0</td>\n",
       "      <td>1.0</td>\n",
       "      <td>2001</td>\n",
       "      <td>아파트</td>\n",
       "      <td>105000000</td>\n",
       "      <td>1994.0</td>\n",
       "      <td>궁전아트빌라</td>\n",
       "    </tr>\n",
       "    <tr>\n",
       "      <th>3</th>\n",
       "      <td>11170-2020-4-0005040-1</td>\n",
       "      <td>1117011500101930000</td>\n",
       "      <td>11170</td>\n",
       "      <td>용산구</td>\n",
       "      <td>1117011500</td>\n",
       "      <td>산천동</td>\n",
       "      <td>2020</td>\n",
       "      <td>4</td>\n",
       "      <td>신고</td>\n",
       "      <td>1</td>\n",
       "      <td>NaN</td>\n",
       "      <td>59.55</td>\n",
       "      <td>0</td>\n",
       "      <td>2.0</td>\n",
       "      <td>2001</td>\n",
       "      <td>아파트</td>\n",
       "      <td>830000000</td>\n",
       "      <td>2001.0</td>\n",
       "      <td>리버힐삼성</td>\n",
       "    </tr>\n",
       "    <tr>\n",
       "      <th>4</th>\n",
       "      <td>11170-2020-4-0001553-1</td>\n",
       "      <td>1117012900101930003</td>\n",
       "      <td>11170</td>\n",
       "      <td>용산구</td>\n",
       "      <td>1117012900</td>\n",
       "      <td>이촌동</td>\n",
       "      <td>2020</td>\n",
       "      <td>4</td>\n",
       "      <td>신고</td>\n",
       "      <td>1</td>\n",
       "      <td>NaN</td>\n",
       "      <td>64.43</td>\n",
       "      <td>0</td>\n",
       "      <td>5.0</td>\n",
       "      <td>2001</td>\n",
       "      <td>아파트</td>\n",
       "      <td>735000000</td>\n",
       "      <td>1971.0</td>\n",
       "      <td>강변</td>\n",
       "    </tr>\n",
       "  </tbody>\n",
       "</table>\n",
       "</div>"
      ],
      "text/plain": [
       "                  실거래가아이디                 지번코드  시군구코드 자치구명       법정동코드 법정동명  \\\n",
       "0  11290-2020-4-0000066-1  1129013800101440024  11290  성북구  1129013800  장위동   \n",
       "1  11290-2020-4-0000628-1  1129013400105080016  11290  성북구  1129013400  길음동   \n",
       "2  11530-2020-4-0014284-1  1153010200107400029  11530  구로구  1153010200  구로동   \n",
       "3  11170-2020-4-0005040-1  1117011500101930000  11170  용산구  1117011500  산천동   \n",
       "4  11170-2020-4-0001553-1  1117012900101930003  11170  용산구  1117012900  이촌동   \n",
       "\n",
       "   신고년도  업무구분코드 업무구분  물건번호  대지권면적   건물면적 관리구분코드   층정보  건물주용도코드 건물주용도  \\\n",
       "0  2020       4   신고     1    0.0  59.92      2   5.0     2001   아파트   \n",
       "1  2020       4   신고     1    0.0  84.77      2  18.0     2001   아파트   \n",
       "2  2020       4   신고     1    NaN  36.90      0   1.0     2001   아파트   \n",
       "3  2020       4   신고     1    NaN  59.55      0   2.0     2001   아파트   \n",
       "4  2020       4   신고     1    NaN  64.43      0   5.0     2001   아파트   \n",
       "\n",
       "         물건금액    건축년도          건물명  \n",
       "0   749000000     0.0  래미안 장위포레카운티  \n",
       "1  1200000000     0.0   롯데캐슬 클라시아   \n",
       "2   105000000  1994.0       궁전아트빌라  \n",
       "3   830000000  2001.0        리버힐삼성  \n",
       "4   735000000  1971.0           강변  "
      ]
     },
     "execution_count": 2,
     "metadata": {},
     "output_type": "execute_result"
    }
   ],
   "source": [
    "import pandas as pd\n",
    "\n",
    "df = pd.read_csv(\"서울특별시_부동산_실거래가_정보_2020년.csv\", encoding=\"cp949\")\n",
    "df.head()"
   ]
  },
  {
   "cell_type": "markdown",
   "metadata": {},
   "source": [
    "## 법정동코드 읽기\n",
    "\n",
    "https://www.code.go.kr/stdcode/regCodeL.do"
   ]
  },
  {
   "cell_type": "code",
   "execution_count": null,
   "metadata": {},
   "outputs": [],
   "source": [
    "import csv\n",
    "import glob\n",
    "import os\n",
    "\n",
    "with open('법정동코드 전체자료.txt', newline='', encoding='cp949') as csvfile:\n",
    "    spamreader = csv.reader(csvfile, delimiter=' ', quotechar='\\t')\n",
    "    for row in spamreader:\n",
    "        print(', '.join(row))"
   ]
  },
  {
   "cell_type": "markdown",
   "metadata": {},
   "source": [
    "## 법정동 코드 읽고 json으로 변환하기"
   ]
  },
  {
   "cell_type": "code",
   "execution_count": 126,
   "metadata": {},
   "outputs": [],
   "source": [
    "import pandas as pd\n",
    "import json\n",
    "\n",
    "\n",
    "def define_district(full_dong):\n",
    "    dong = full_dong.split(\" \")\n",
    "    return len(dong)\n",
    "\n",
    "df = pd.read_csv('법정동코드 전체자료.txt', encoding=\"cp949\", delimiter='\\t')\n",
    "df['법정동코드'] = df['법정동코드'].astype(str).str[:5]\n",
    "\n",
    "df = df[df['폐지여부']=='존재']\n",
    "df = df.drop(['폐지여부'], axis=1)\n",
    "\n",
    "df['법정동명'] = df['법정동명'].apply(lambda x: x if len(x.split(\" \")) > 1 else \"\" )\n",
    "df = df[df['법정동명'] != '']\n",
    "df = df.drop_duplicates('법정동코드')\n",
    "df = df.set_index('법정동코드')\n",
    "result = df.to_dict()\n",
    "data = result.get('법정동명')\n",
    "with open(\"district_code.json\", \"w\") as w:\n",
    "    json.dump(data, w, ensure_ascii=False)"
   ]
  },
  {
   "cell_type": "code",
   "execution_count": 130,
   "metadata": {},
   "outputs": [
    {
     "data": {
      "text/plain": [
       "'서울특별시 종로구'"
      ]
     },
     "execution_count": 130,
     "metadata": {},
     "output_type": "execute_result"
    }
   ],
   "source": [
    "import json\n",
    "with open(\"district_code.json\", \"r\") as r:\n",
    "    data = json.load(r)\n",
    "\n",
    "data.get('11110')"
   ]
  }
 ],
 "metadata": {
  "kernelspec": {
   "display_name": "Python 3",
   "language": "python",
   "name": "python3"
  },
  "language_info": {
   "codemirror_mode": {
    "name": "ipython",
    "version": 3
   },
   "file_extension": ".py",
   "mimetype": "text/x-python",
   "name": "python",
   "nbconvert_exporter": "python",
   "pygments_lexer": "ipython3",
   "version": "3.8.5"
  }
 },
 "nbformat": 4,
 "nbformat_minor": 4
}
