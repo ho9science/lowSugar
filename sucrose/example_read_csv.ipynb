{
 "cells": [
  {
   "cell_type": "code",
   "execution_count": null,
   "metadata": {},
   "outputs": [],
   "source": [
    "import csv\n",
    "import glob\n",
    "import os\n",
    "\n",
    "list_of_files = glob.glob('/Users/henry/Downloads/*.csv')\n",
    "latest_file = max(list_of_files, key=os.path.getctime)\n",
    "\n",
    "with open(latest_file, newline='', encoding='cp949') as csvfile:\n",
    "    spamreader = csv.reader(csvfile, delimiter=' ', quotechar='|')\n",
    "    for row in spamreader:\n",
    "        print(', '.join(row))"
   ]
  },
  {
   "cell_type": "code",
   "execution_count": null,
   "metadata": {},
   "outputs": [],
   "source": [
    "import pandas as pd\n",
    "import glob\n",
    "import os\n",
    "\n",
    "list_of_files = glob.glob('/Users/henry/Downloads/*.csv')\n",
    "latest_file = max(list_of_files, key=os.path.getctime)\n",
    "df = pd.read_csv(latest_file, encoding=\"cp949\")\n",
    "\n",
    "print(df)"
   ]
  },
  {
   "cell_type": "code",
   "execution_count": null,
   "metadata": {},
   "outputs": [],
   "source": []
  },
  {
   "cell_type": "code",
   "execution_count": null,
   "metadata": {},
   "outputs": [],
   "source": [
    "import pandas as pd\n",
    "import glob\n",
    "import os\n",
    "import json\n",
    "\n",
    "list_of_files = glob.glob('/Users/henry/Downloads/*.csv')\n",
    "latest_file = max(list_of_files, key=os.path.getctime)\n",
    "df = pd.read_csv(latest_file, encoding=\"cp949\")\n",
    "df = df.loc[:,['종목코드','종목명']]\n",
    "df = df.set_index('종목코드')\n",
    "df.columns = ['name']\n",
    "print(df.shape[0])\n",
    "result = df.to_dict(\"index\")\n",
    "\n",
    "with open('stockcode.json', 'w') as outfile:\n",
    "    json.dump(result, outfile, ensure_ascii=False)"
   ]
  },
  {
   "cell_type": "code",
   "execution_count": 94,
   "metadata": {
    "scrolled": true
   },
   "outputs": [
    {
     "name": "stdout",
     "output_type": "stream",
     "text": [
      "--- 삭제 목록 ---\n",
      "\n",
      "--- 추가 목록 ---\n",
      "000021\n",
      "000023\n"
     ]
    }
   ],
   "source": [
    "try:\n",
    "    df2 = pd.read_json(\"stockcode.json\", orient='index')\n",
    "    deletedCode = df.index.difference(df2.index)\n",
    "    addedCode = df2.index.difference(df.index)\n",
    "\n",
    "    print('--- 삭제 목록 ---')\n",
    "    print('\\n'.join(map(str, deletedCode)))\n",
    "    print('--- 추가 목록 ---')\n",
    "    print('\\n'.join(map(str, addedCode)))\n",
    "\n",
    "except ValueError:\n",
    "    print(\"not find stockcode\")\n"
   ]
  },
  {
   "cell_type": "code",
   "execution_count": null,
   "metadata": {},
   "outputs": [],
   "source": [
    "import json\n",
    "import time\n",
    "\n",
    "with open(\"stockcode.json\") as code:\n",
    "    data = json.load(code)\n",
    "\n",
    "for code in data:\n",
    "    print(code)\n",
    "    time.sleep(3)"
   ]
  },
  {
   "cell_type": "code",
   "execution_count": null,
   "metadata": {},
   "outputs": [],
   "source": []
  }
 ],
 "metadata": {
  "kernelspec": {
   "display_name": "Python 3",
   "language": "python",
   "name": "python3"
  },
  "language_info": {
   "codemirror_mode": {
    "name": "ipython",
    "version": 3
   },
   "file_extension": ".py",
   "mimetype": "text/x-python",
   "name": "python",
   "nbconvert_exporter": "python",
   "pygments_lexer": "ipython3",
   "version": "3.8.5"
  }
 },
 "nbformat": 4,
 "nbformat_minor": 4
}
